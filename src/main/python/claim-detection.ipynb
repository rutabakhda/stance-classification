{
 "cells": [
  {
   "cell_type": "code",
   "execution_count": 6,
   "metadata": {},
   "outputs": [],
   "source": [
    "import pandas as pd\n",
    "import numpy as np\n",
    "import seaborn as sns\n",
    "import matplotlib\n",
    "import matplotlib.pyplot as plt\n",
    "import os"
   ]
  },
  {
   "cell_type": "code",
   "execution_count": null,
   "metadata": {},
   "outputs": [],
   "source": []
  },
  {
   "cell_type": "code",
   "execution_count": 2,
   "metadata": {},
   "outputs": [],
   "source": [
    "# Conclusions\n",
    "\n",
    "# $ jq \"\" idebate.json | grep \"\\\"conclusion\\\"\\:\" | sort | uniq | wc -l\n",
    "# 5106\n",
    "\n",
    "# $ jq \"\" debatewise.json | grep \"\\\"conclusion\\\"\\:\" | sort | uniq | wc -l\n",
    "# 5992\n",
    "\n",
    "# $ jq \"\" debateorg.json | grep \"\\\"conclusion\\\"\\:\" | sort | uniq | wc -l\n",
    "# 50821\n",
    "\n",
    "# $ jq \"\" debatepedia.json | grep \"\\\"conclusion\\\"\\:\" | sort | uniq | wc -l\n",
    "# 10314"
   ]
  },
  {
   "cell_type": "code",
   "execution_count": 3,
   "metadata": {},
   "outputs": [],
   "source": [
    "# Premises\n",
    "\n",
    "# $ jq \"\" idebate.json | grep \"\\\"premises\\\"\\:\" | wc -l\n",
    "# 13522\n",
    "\n",
    "# $ jq \"\" debatewise.json | grep \"\\\"premises\\\"\\:\" | wc -l\n",
    "# 14353\n",
    "\n",
    "# $ jq \"\" debateorg.json | grep \"\\\"premises\\\"\\:\" | wc -l\n",
    "# 338620\n",
    "\n",
    "# $ jq \"\" debatepedia.json | grep \"\\\"premises\\\"\\:\" | wc -l\n",
    "# 21197"
   ]
  },
  {
   "cell_type": "code",
   "execution_count": 21,
   "metadata": {},
   "outputs": [
    {
     "data": {
      "text/html": [
       "<div>\n",
       "<style scoped>\n",
       "    .dataframe tbody tr th:only-of-type {\n",
       "        vertical-align: middle;\n",
       "    }\n",
       "\n",
       "    .dataframe tbody tr th {\n",
       "        vertical-align: top;\n",
       "    }\n",
       "\n",
       "    .dataframe thead th {\n",
       "        text-align: right;\n",
       "    }\n",
       "</style>\n",
       "<table border=\"1\" class=\"dataframe\">\n",
       "  <thead>\n",
       "    <tr style=\"text-align: right;\">\n",
       "      <th></th>\n",
       "      <th>Count</th>\n",
       "      <th>Data</th>\n",
       "      <th>Type</th>\n",
       "    </tr>\n",
       "  </thead>\n",
       "  <tbody>\n",
       "    <tr>\n",
       "      <th>0</th>\n",
       "      <td>50821</td>\n",
       "      <td>debateorg</td>\n",
       "      <td>Conclusion</td>\n",
       "    </tr>\n",
       "    <tr>\n",
       "      <th>1</th>\n",
       "      <td>338620</td>\n",
       "      <td>debateorg</td>\n",
       "      <td>Premise</td>\n",
       "    </tr>\n",
       "    <tr>\n",
       "      <th>2</th>\n",
       "      <td>389441</td>\n",
       "      <td>debateorg</td>\n",
       "      <td>Total</td>\n",
       "    </tr>\n",
       "    <tr>\n",
       "      <th>3</th>\n",
       "      <td>5106</td>\n",
       "      <td>idebate</td>\n",
       "      <td>Conclusion</td>\n",
       "    </tr>\n",
       "    <tr>\n",
       "      <th>4</th>\n",
       "      <td>13522</td>\n",
       "      <td>idebate</td>\n",
       "      <td>Premise</td>\n",
       "    </tr>\n",
       "    <tr>\n",
       "      <th>5</th>\n",
       "      <td>18628</td>\n",
       "      <td>idebate</td>\n",
       "      <td>Total</td>\n",
       "    </tr>\n",
       "    <tr>\n",
       "      <th>6</th>\n",
       "      <td>10314</td>\n",
       "      <td>debatepedia</td>\n",
       "      <td>Conclusion</td>\n",
       "    </tr>\n",
       "    <tr>\n",
       "      <th>7</th>\n",
       "      <td>21197</td>\n",
       "      <td>debatepedia</td>\n",
       "      <td>Premise</td>\n",
       "    </tr>\n",
       "    <tr>\n",
       "      <th>8</th>\n",
       "      <td>31511</td>\n",
       "      <td>debatepedia</td>\n",
       "      <td>Total</td>\n",
       "    </tr>\n",
       "    <tr>\n",
       "      <th>9</th>\n",
       "      <td>5992</td>\n",
       "      <td>debatewise</td>\n",
       "      <td>Conclusion</td>\n",
       "    </tr>\n",
       "    <tr>\n",
       "      <th>10</th>\n",
       "      <td>14353</td>\n",
       "      <td>debatewise</td>\n",
       "      <td>Premise</td>\n",
       "    </tr>\n",
       "    <tr>\n",
       "      <th>11</th>\n",
       "      <td>20345</td>\n",
       "      <td>debatewise</td>\n",
       "      <td>Total</td>\n",
       "    </tr>\n",
       "    <tr>\n",
       "      <th>12</th>\n",
       "      <td>72233</td>\n",
       "      <td>Combined</td>\n",
       "      <td>Conclusion</td>\n",
       "    </tr>\n",
       "    <tr>\n",
       "      <th>13</th>\n",
       "      <td>387692</td>\n",
       "      <td>Combined</td>\n",
       "      <td>Premise</td>\n",
       "    </tr>\n",
       "    <tr>\n",
       "      <th>14</th>\n",
       "      <td>459925</td>\n",
       "      <td>Combined</td>\n",
       "      <td>Total</td>\n",
       "    </tr>\n",
       "  </tbody>\n",
       "</table>\n",
       "</div>"
      ],
      "text/plain": [
       "     Count         Data        Type\n",
       "0    50821    debateorg  Conclusion\n",
       "1   338620    debateorg     Premise\n",
       "2   389441    debateorg       Total\n",
       "3     5106      idebate  Conclusion\n",
       "4    13522      idebate     Premise\n",
       "5    18628      idebate       Total\n",
       "6    10314  debatepedia  Conclusion\n",
       "7    21197  debatepedia     Premise\n",
       "8    31511  debatepedia       Total\n",
       "9     5992   debatewise  Conclusion\n",
       "10   14353   debatewise     Premise\n",
       "11   20345   debatewise       Total\n",
       "12   72233     Combined  Conclusion\n",
       "13  387692     Combined     Premise\n",
       "14  459925     Combined       Total"
      ]
     },
     "execution_count": 21,
     "metadata": {},
     "output_type": "execute_result"
    }
   ],
   "source": [
    "data = {\"Data\" : [\"debateorg\", \"debateorg\",\"debateorg\",\\\n",
    "                  \"idebate\",\"idebate\",\"idebate\",\\\n",
    "                  \"debatepedia\", \"debatepedia\", \"debatepedia\",\\\n",
    "                  \"debatewise\", \"debatewise\", \"debatewise\",\\\n",
    "                 \"Combined\", \"Combined\", \"Combined\"],\n",
    "        \"Type\" : [\"Conclusion\", \"Premise\", \"Total\", \"Conclusion\", \"Premise\", \"Total\",\\\n",
    "                 \"Conclusion\", \"Premise\", \"Total\",\"Conclusion\", \"Premise\", \"Total\",\\\n",
    "                 \"Conclusion\", \"Premise\", \"Total\"],\n",
    "        \"Count\": [50821, 338620, 50821 + 338620,\\\n",
    "                  5106, 13522, 5106 + 13522,\\\n",
    "                  10314, 21197, 10314 + 21197,\\\n",
    "                  5992, 14353, 5992 + 14353,\\\n",
    "                 50821 + 5106 + 10314 + 5992,\\\n",
    "                 338620 + 13522 + 21197 + 14353,\\\n",
    "                 50821 + 338620 + 5106 + 13522 + 10314 + 21197 + 5992 + 14353]}\n",
    "dataF = pd.DataFrame(data)\n",
    "#dataF[\"Total\"] = dataF[\"Conclusions\"] + dataF[\"Premises\"]\n",
    "#total = {\"Data\" : \"Combined\", \"Total\" : dataF[\"Total\"].sum(),\\\n",
    "#         \"Premises\" : dataF[\"Premises\"].sum(), \"Conclusions\" : dataF[\"Conclusions\"].sum()}\n",
    "#dataF = dataF.append(total, ignore_index = True)\n",
    "dataF"
   ]
  },
  {
   "cell_type": "code",
   "execution_count": 22,
   "metadata": {},
   "outputs": [
    {
     "name": "stderr",
     "output_type": "stream",
     "text": [
      "/usr/lib/python3/dist-packages/seaborn/categorical.py:1508: FutureWarning: remove_na is deprecated and is a private function. Do not use.\n",
      "  stat_data = remove_na(group_data[hue_mask])\n"
     ]
    },
    {
     "data": {
      "text/plain": [
       "<matplotlib.axes._subplots.AxesSubplot at 0x7f053ece4da0>"
      ]
     },
     "execution_count": 22,
     "metadata": {},
     "output_type": "execute_result"
    },
    {
     "data": {
      "image/png": "[encoded data removed]",
      "text/plain": [
       "<Figure size 1080x720 with 1 Axes>"
      ]
     },
     "metadata": {},
     "output_type": "display_data"
    }
   ],
   "source": [
    "fig = plt.figure(figsize = (15,10))\n",
    "sns.set(style=\"whitegrid\")\n",
    "sns.barplot(data = dataF, x = \"Data\", y = \"Count\", hue = \"Type\",\\\n",
    "            order = [\"Combined\",\"debateorg\", \"debatepedia\", \"debatewise\", \"idebate\"],\\\n",
    "            hue_order = [\"Total\", \"Premise\", \"Conclusion\"])"
   ]
  },
  {
   "cell_type": "code",
   "execution_count": null,
   "metadata": {},
   "outputs": [],
   "source": []
  },
  {
   "cell_type": "code",
   "execution_count": null,
   "metadata": {},
   "outputs": [],
   "source": []
  }
 ],
 "metadata": {
  "kernelspec": {
   "display_name": "Python 3",
   "language": "python",
   "name": "python3"
  },
  "language_info": {
   "codemirror_mode": {
    "name": "ipython",
    "version": 3
   },
   "file_extension": ".py",
   "mimetype": "text/x-python",
   "name": "python",
   "nbconvert_exporter": "python",
   "pygments_lexer": "ipython3",
   "version": "3.6.7"
  }
 },
 "nbformat": 4,
 "nbformat_minor": 2
}
